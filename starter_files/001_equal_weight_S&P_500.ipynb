{
  "cells": [
    {
      "cell_type": "markdown",
      "metadata": {
        "id": "WQq5y5QbwKyX"
      },
      "source": [
        "# Equal-Weight S&P 500 Index Fund\n",
        "\n",
        "## Introduction & Library Imports\n",
        "\n",
        "The S&P 500 is the world's most popular stock market index. The largest fund that is benchmarked to this index is the SPDR® S&P 500® ETF Trust. It has more than US$250 billion of assets under management.\n",
        "\n",
        "The goal of this section of the course is to create a Python script that will accept the value of your portfolio and tell you how many shares of each S&P 500 constituent you should purchase to get an equal-weight version of the index fund.\n",
        "\n",
        "## Library Imports\n",
        "\n",
        "The first thing we need to do is import the open-source software libraries that we'll be using in this tutorial."
      ]
    },
    {
      "cell_type": "code",
      "source": [
        "!pip install yahoo_fin\n",
        "!pip install xlsxwriter"
      ],
      "metadata": {
        "id": "qhwoxp3f3GiD",
        "outputId": "c485de0e-cf88-4a62-e8c2-70bea4a1e120",
        "colab": {
          "base_uri": "https://localhost:8080/"
        }
      },
      "execution_count": 10,
      "outputs": [
        {
          "output_type": "stream",
          "name": "stdout",
          "text": [
            "Requirement already satisfied: yahoo_fin in /usr/local/lib/python3.7/dist-packages (0.8.9.1)\n",
            "Requirement already satisfied: requests-html in /usr/local/lib/python3.7/dist-packages (from yahoo_fin) (0.10.0)\n",
            "Requirement already satisfied: pandas in /usr/local/lib/python3.7/dist-packages (from yahoo_fin) (1.1.5)\n",
            "Requirement already satisfied: feedparser in /usr/local/lib/python3.7/dist-packages (from yahoo_fin) (6.0.8)\n",
            "Requirement already satisfied: requests in /usr/local/lib/python3.7/dist-packages (from yahoo_fin) (2.23.0)\n",
            "Requirement already satisfied: sgmllib3k in /usr/local/lib/python3.7/dist-packages (from feedparser->yahoo_fin) (1.0.0)\n",
            "Requirement already satisfied: numpy>=1.15.4 in /usr/local/lib/python3.7/dist-packages (from pandas->yahoo_fin) (1.19.5)\n",
            "Requirement already satisfied: python-dateutil>=2.7.3 in /usr/local/lib/python3.7/dist-packages (from pandas->yahoo_fin) (2.8.2)\n",
            "Requirement already satisfied: pytz>=2017.2 in /usr/local/lib/python3.7/dist-packages (from pandas->yahoo_fin) (2018.9)\n",
            "Requirement already satisfied: six>=1.5 in /usr/local/lib/python3.7/dist-packages (from python-dateutil>=2.7.3->pandas->yahoo_fin) (1.15.0)\n",
            "Requirement already satisfied: chardet<4,>=3.0.2 in /usr/local/lib/python3.7/dist-packages (from requests->yahoo_fin) (3.0.4)\n",
            "Requirement already satisfied: idna<3,>=2.5 in /usr/local/lib/python3.7/dist-packages (from requests->yahoo_fin) (2.10)\n",
            "Requirement already satisfied: certifi>=2017.4.17 in /usr/local/lib/python3.7/dist-packages (from requests->yahoo_fin) (2021.10.8)\n",
            "Requirement already satisfied: urllib3!=1.25.0,!=1.25.1,<1.26,>=1.21.1 in /usr/local/lib/python3.7/dist-packages (from requests->yahoo_fin) (1.25.11)\n",
            "Requirement already satisfied: pyquery in /usr/local/lib/python3.7/dist-packages (from requests-html->yahoo_fin) (1.4.3)\n",
            "Requirement already satisfied: parse in /usr/local/lib/python3.7/dist-packages (from requests-html->yahoo_fin) (1.19.0)\n",
            "Requirement already satisfied: bs4 in /usr/local/lib/python3.7/dist-packages (from requests-html->yahoo_fin) (0.0.1)\n",
            "Requirement already satisfied: w3lib in /usr/local/lib/python3.7/dist-packages (from requests-html->yahoo_fin) (1.22.0)\n",
            "Requirement already satisfied: fake-useragent in /usr/local/lib/python3.7/dist-packages (from requests-html->yahoo_fin) (0.1.11)\n",
            "Requirement already satisfied: pyppeteer>=0.0.14 in /usr/local/lib/python3.7/dist-packages (from requests-html->yahoo_fin) (0.2.6)\n",
            "Requirement already satisfied: pyee<9.0.0,>=8.1.0 in /usr/local/lib/python3.7/dist-packages (from pyppeteer>=0.0.14->requests-html->yahoo_fin) (8.2.2)\n",
            "Requirement already satisfied: appdirs<2.0.0,>=1.4.3 in /usr/local/lib/python3.7/dist-packages (from pyppeteer>=0.0.14->requests-html->yahoo_fin) (1.4.4)\n",
            "Requirement already satisfied: importlib-metadata>=1.4 in /usr/local/lib/python3.7/dist-packages (from pyppeteer>=0.0.14->requests-html->yahoo_fin) (4.8.2)\n",
            "Requirement already satisfied: websockets<10.0,>=9.1 in /usr/local/lib/python3.7/dist-packages (from pyppeteer>=0.0.14->requests-html->yahoo_fin) (9.1)\n",
            "Requirement already satisfied: tqdm<5.0.0,>=4.42.1 in /usr/local/lib/python3.7/dist-packages (from pyppeteer>=0.0.14->requests-html->yahoo_fin) (4.62.3)\n",
            "Requirement already satisfied: zipp>=0.5 in /usr/local/lib/python3.7/dist-packages (from importlib-metadata>=1.4->pyppeteer>=0.0.14->requests-html->yahoo_fin) (3.6.0)\n",
            "Requirement already satisfied: typing-extensions>=3.6.4 in /usr/local/lib/python3.7/dist-packages (from importlib-metadata>=1.4->pyppeteer>=0.0.14->requests-html->yahoo_fin) (3.10.0.2)\n",
            "Requirement already satisfied: beautifulsoup4 in /usr/local/lib/python3.7/dist-packages (from bs4->requests-html->yahoo_fin) (4.6.3)\n",
            "Requirement already satisfied: lxml>=2.1 in /usr/local/lib/python3.7/dist-packages (from pyquery->requests-html->yahoo_fin) (4.2.6)\n",
            "Requirement already satisfied: cssselect>0.7.9 in /usr/local/lib/python3.7/dist-packages (from pyquery->requests-html->yahoo_fin) (1.1.0)\n",
            "Collecting xlsxwriter\n",
            "  Downloading XlsxWriter-3.0.2-py3-none-any.whl (149 kB)\n",
            "\u001b[K     |████████████████████████████████| 149 kB 5.0 MB/s \n",
            "\u001b[?25hInstalling collected packages: xlsxwriter\n",
            "Successfully installed xlsxwriter-3.0.2\n"
          ]
        }
      ]
    },
    {
      "cell_type": "code",
      "execution_count": 11,
      "metadata": {
        "id": "fS7lVNvvwKyb"
      },
      "outputs": [],
      "source": [
        "import numpy as np #The Numpy numerical computing library\n",
        "import pandas as pd #The Pandas data science library\n",
        "import requests #The requests library for HTTP requests in Python\n",
        "import xlsxwriter #The XlsxWriter library for \n",
        "import math #The Python math module\n",
        "import yahoo_fin.stock_info as si"
      ]
    },
    {
      "cell_type": "markdown",
      "metadata": {
        "id": "17g59kS5wKyc"
      },
      "source": [
        "## Importing Our List of Stocks\n",
        "\n",
        "The next thing we need to do is import the constituents of the S&P 500.\n",
        "\n",
        "These constituents change over time, so in an ideal world you would connect directly to the index provider (Standard & Poor's) and pull their real-time constituents on a regular basis.\n",
        "\n",
        "Paying for access to the index provider's API is outside of the scope of this course. \n",
        "\n",
        "There's a static version of the S&P 500 constituents available here. [Click this link to download them now](https://drive.google.com/file/d/1ZJSpbY69DVckVZlO9cC6KkgfSufybcHN/view?usp=sharing). Move this file into the `starter-files` folder so it can be accessed by other files in that directory.\n",
        "\n",
        "Now it's time to import these stocks to our Jupyter Notebook file."
      ]
    },
    {
      "cell_type": "code",
      "execution_count": 26,
      "metadata": {
        "id": "QZd21qexwKyc"
      },
      "outputs": [],
      "source": [
        "#stocks = pd.read_csv('sample_data/sp_500_stocks.csv')"
      ]
    },
    {
      "cell_type": "code",
      "source": [
        "lt = si.tickers_sp500()\n",
        "stocks = pd.DataFrame()\n",
        "stocks['Ticker']=lt\n",
        "stocks"
      ],
      "metadata": {
        "id": "B4CGnXEV3rfW",
        "outputId": "5e0e3d5b-5d8e-40c4-9b93-5ba6ff0c4061",
        "colab": {
          "base_uri": "https://localhost:8080/",
          "height": 423
        }
      },
      "execution_count": 16,
      "outputs": [
        {
          "output_type": "execute_result",
          "data": {
            "text/html": [
              "<div>\n",
              "<style scoped>\n",
              "    .dataframe tbody tr th:only-of-type {\n",
              "        vertical-align: middle;\n",
              "    }\n",
              "\n",
              "    .dataframe tbody tr th {\n",
              "        vertical-align: top;\n",
              "    }\n",
              "\n",
              "    .dataframe thead th {\n",
              "        text-align: right;\n",
              "    }\n",
              "</style>\n",
              "<table border=\"1\" class=\"dataframe\">\n",
              "  <thead>\n",
              "    <tr style=\"text-align: right;\">\n",
              "      <th></th>\n",
              "      <th>Ticker</th>\n",
              "    </tr>\n",
              "  </thead>\n",
              "  <tbody>\n",
              "    <tr>\n",
              "      <th>0</th>\n",
              "      <td>A</td>\n",
              "    </tr>\n",
              "    <tr>\n",
              "      <th>1</th>\n",
              "      <td>AAL</td>\n",
              "    </tr>\n",
              "    <tr>\n",
              "      <th>2</th>\n",
              "      <td>AAP</td>\n",
              "    </tr>\n",
              "    <tr>\n",
              "      <th>3</th>\n",
              "      <td>AAPL</td>\n",
              "    </tr>\n",
              "    <tr>\n",
              "      <th>4</th>\n",
              "      <td>ABBV</td>\n",
              "    </tr>\n",
              "    <tr>\n",
              "      <th>...</th>\n",
              "      <td>...</td>\n",
              "    </tr>\n",
              "    <tr>\n",
              "      <th>500</th>\n",
              "      <td>YUM</td>\n",
              "    </tr>\n",
              "    <tr>\n",
              "      <th>501</th>\n",
              "      <td>ZBH</td>\n",
              "    </tr>\n",
              "    <tr>\n",
              "      <th>502</th>\n",
              "      <td>ZBRA</td>\n",
              "    </tr>\n",
              "    <tr>\n",
              "      <th>503</th>\n",
              "      <td>ZION</td>\n",
              "    </tr>\n",
              "    <tr>\n",
              "      <th>504</th>\n",
              "      <td>ZTS</td>\n",
              "    </tr>\n",
              "  </tbody>\n",
              "</table>\n",
              "<p>505 rows × 1 columns</p>\n",
              "</div>"
            ],
            "text/plain": [
              "    Ticker\n",
              "0        A\n",
              "1      AAL\n",
              "2      AAP\n",
              "3     AAPL\n",
              "4     ABBV\n",
              "..     ...\n",
              "500    YUM\n",
              "501    ZBH\n",
              "502   ZBRA\n",
              "503   ZION\n",
              "504    ZTS\n",
              "\n",
              "[505 rows x 1 columns]"
            ]
          },
          "metadata": {},
          "execution_count": 16
        }
      ]
    },
    {
      "cell_type": "markdown",
      "metadata": {
        "id": "PyVTM4KuwKyd"
      },
      "source": [
        "## Acquiring an API Token\n",
        "\n",
        "Now it's time to import our IEX Cloud API token. This is the data provider that we will be using throughout this course.\n",
        "\n",
        "API tokens (and other sensitive information) should be stored in a `secrets.py` file that doesn't get pushed to your local Git repository. We'll be using a sandbox API token in this course, which means that the data we'll use is randomly-generated and (more importantly) has no cost associated with it.\n",
        "\n",
        "[Click here](http://nickmccullum.com/algorithmic-trading-python/secrets.py) to download your `secrets.py` file. Move the file into the same directory as this Jupyter Notebook before proceeding."
      ]
    },
    {
      "cell_type": "code",
      "execution_count": 2,
      "metadata": {
        "id": "e1AdfwCZwKyd"
      },
      "outputs": [],
      "source": [
        "#from secrets import IEX_CLOUD_API_TOKEN\n",
        "IEX_CLOUD_API_TOKEN = 'Tpk_059b97af715d417d9f49f50b51b1c448'"
      ]
    },
    {
      "cell_type": "markdown",
      "metadata": {
        "id": "VGtBjgoawKyd"
      },
      "source": [
        "## Making Our First API Call\n",
        "\n",
        "Now it's time to structure our API calls to IEX cloud. \n",
        "\n",
        "We need the following information from the API:\n",
        "\n",
        "* Market capitalization for each stock\n",
        "* Price of each stock\n",
        "\n"
      ]
    },
    {
      "cell_type": "code",
      "execution_count": 3,
      "metadata": {
        "id": "syDmpeBUwKye",
        "outputId": "e3625f94-5216-485c-e41e-bdc6e5d8da6d",
        "colab": {
          "base_uri": "https://localhost:8080/"
        }
      },
      "outputs": [
        {
          "output_type": "execute_result",
          "data": {
            "text/plain": [
              "{'avgTotalVolume': 121492474,\n",
              " 'calculationPrice': 'close',\n",
              " 'change': 5.15,\n",
              " 'changePercent': 0.02959,\n",
              " 'close': 0,\n",
              " 'closeSource': 'lcioiffa',\n",
              " 'closeTime': None,\n",
              " 'companyName': 'Apple Inc',\n",
              " 'currency': 'USD',\n",
              " 'delayedPrice': None,\n",
              " 'delayedPriceTime': None,\n",
              " 'extendedChange': None,\n",
              " 'extendedChangePercent': None,\n",
              " 'extendedPrice': None,\n",
              " 'extendedPriceTime': None,\n",
              " 'high': 0,\n",
              " 'highSource': None,\n",
              " 'highTime': None,\n",
              " 'iexAskPrice': 0,\n",
              " 'iexAskSize': 0,\n",
              " 'iexBidPrice': 0,\n",
              " 'iexBidSize': 0,\n",
              " 'iexClose': 183.18,\n",
              " 'iexCloseTime': 1698635155615,\n",
              " 'iexLastUpdated': 1720222169424,\n",
              " 'iexMarketPercent': 12.71921765840402,\n",
              " 'iexOpen': 176.146,\n",
              " 'iexOpenTime': 1689519885316,\n",
              " 'iexRealtimePrice': 181.61,\n",
              " 'iexRealtimeSize': 5,\n",
              " 'iexVolume': 1447183,\n",
              " 'isUSMarketOpen': False,\n",
              " 'lastTradeTime': 1656386399415,\n",
              " 'latestPrice': 183.2,\n",
              " 'latestSource': 'Close',\n",
              " 'latestTime': 'December 15, 2021',\n",
              " 'latestUpdate': 1649065269743,\n",
              " 'latestVolume': None,\n",
              " 'low': 0,\n",
              " 'lowSource': None,\n",
              " 'lowTime': None,\n",
              " 'marketCap': 3075107682762,\n",
              " 'oddLotDelayedPrice': None,\n",
              " 'oddLotDelayedPriceTime': None,\n",
              " 'open': 0,\n",
              " 'openSource': 'iafoiclf',\n",
              " 'openTime': None,\n",
              " 'peRatio': 16.12,\n",
              " 'previousClose': 176.17,\n",
              " 'previousVolume': 144577019,\n",
              " 'primaryExchange': 'NQAASD',\n",
              " 'symbol': 'AAPL',\n",
              " 'volume': None,\n",
              " 'week52High': 187.12,\n",
              " 'week52Low': 116.77,\n",
              " 'ytdChange': 0.38832885763579933}"
            ]
          },
          "metadata": {},
          "execution_count": 3
        }
      ],
      "source": [
        "symbol='AAPL'\n",
        "api_url = f'https://sandbox.iexapis.com/stable/stock/{symbol}/quote?token={IEX_CLOUD_API_TOKEN}'\n",
        "data = requests.get(api_url).json()\n",
        "data"
      ]
    },
    {
      "cell_type": "markdown",
      "metadata": {
        "id": "YHgarirrwKyf"
      },
      "source": [
        "## Parsing Our API Call\n",
        "\n",
        "The API call that we executed in the last code block contains all of the information required to build our equal-weight S&P 500 strategy. \n",
        "\n",
        "With that said, the data isn't in a proper format yet. We need to parse it first."
      ]
    },
    {
      "cell_type": "code",
      "execution_count": 5,
      "metadata": {
        "id": "lC2PkgOZwKyf",
        "outputId": "b1a79253-b944-4893-9078-689d74359b98",
        "colab": {
          "base_uri": "https://localhost:8080/"
        }
      },
      "outputs": [
        {
          "output_type": "execute_result",
          "data": {
            "text/plain": [
              "(183.2, 3075107682762)"
            ]
          },
          "metadata": {},
          "execution_count": 5
        }
      ],
      "source": [
        "data['latestPrice'] , data['marketCap']"
      ]
    },
    {
      "cell_type": "markdown",
      "metadata": {
        "id": "XycefTfYwKyg"
      },
      "source": [
        "## Adding Our Stocks Data to a Pandas DataFrame\n",
        "\n",
        "The next thing we need to do is add our stock's price and market capitalization to a pandas DataFrame. Think of a DataFrame like the Python version of a spreadsheet. It stores tabular data."
      ]
    },
    {
      "cell_type": "code",
      "execution_count": 19,
      "metadata": {
        "id": "eq-A9wR5wKyg",
        "outputId": "e28ad8f5-683c-4957-b9fd-a6f90ba8552f",
        "colab": {
          "base_uri": "https://localhost:8080/",
          "height": 49
        }
      },
      "outputs": [
        {
          "output_type": "execute_result",
          "data": {
            "text/html": [
              "<div>\n",
              "<style scoped>\n",
              "    .dataframe tbody tr th:only-of-type {\n",
              "        vertical-align: middle;\n",
              "    }\n",
              "\n",
              "    .dataframe tbody tr th {\n",
              "        vertical-align: top;\n",
              "    }\n",
              "\n",
              "    .dataframe thead th {\n",
              "        text-align: right;\n",
              "    }\n",
              "</style>\n",
              "<table border=\"1\" class=\"dataframe\">\n",
              "  <thead>\n",
              "    <tr style=\"text-align: right;\">\n",
              "      <th></th>\n",
              "      <th>Ticker</th>\n",
              "      <th>Price</th>\n",
              "      <th>Market Capitalization</th>\n",
              "      <th>Number Of Shares to Buy</th>\n",
              "    </tr>\n",
              "  </thead>\n",
              "  <tbody>\n",
              "  </tbody>\n",
              "</table>\n",
              "</div>"
            ],
            "text/plain": [
              "Empty DataFrame\n",
              "Columns: [Ticker, Price, Market Capitalization, Number Of Shares to Buy]\n",
              "Index: []"
            ]
          },
          "metadata": {},
          "execution_count": 19
        }
      ],
      "source": [
        "my_columns = ['Ticker', 'Price','Market Capitalization', 'Number Of Shares to Buy']\n",
        "final_dataframe = pd.DataFrame(columns = my_columns)\n",
        "final_dataframe"
      ]
    },
    {
      "cell_type": "code",
      "execution_count": null,
      "metadata": {
        "id": "-VKk8hvkwKyh"
      },
      "outputs": [],
      "source": [
        ""
      ]
    },
    {
      "cell_type": "markdown",
      "metadata": {
        "id": "NJJDlNJtwKyj"
      },
      "source": [
        "## Looping Through The Tickers in Our List of Stocks\n",
        "\n",
        "Using the same logic that we outlined above, we can pull data for all S&P 500 stocks and store their data in the DataFrame using a `for` loop."
      ]
    },
    {
      "cell_type": "code",
      "execution_count": 27,
      "metadata": {
        "id": "aQfZZ3vtwKyk",
        "outputId": "15886df1-01c7-41f1-876e-a675a7f78392",
        "colab": {
          "base_uri": "https://localhost:8080/",
          "height": 1000
        }
      },
      "outputs": [
        {
          "output_type": "stream",
          "name": "stdout",
          "text": [
            "A 156.07\n",
            "AAL 17.58\n",
            "AAP 245.76\n",
            "AAPL 180.3\n",
            "ABBV 135.06\n",
            "ABC 129.65\n",
            "ABMD 327.96\n",
            "ABT 136.99\n",
            "ACN 383.2\n",
            "ADBE 659.77\n",
            "ADI 184.41\n",
            "ADM 67.57\n",
            "ADP 243.61\n",
            "ADSK 273.18\n",
            "AEE 90.32\n",
            "AEP 89.34\n",
            "AES 25.11\n",
            "AFL 58.06\n",
            "AIG 55.36\n",
            "AIV 8.05\n",
            "AIZ 157.46\n",
            "AJG 174.04\n",
            "AKAM 120.39\n",
            "ALB 239.9\n",
            "ALGN 610.57\n",
            "ALK 51.45\n",
            "ALL 116.42\n",
            "ALLE 134.06\n",
            "ALXN 189.9\n",
            "AMAT 153.72\n",
            "AMCR 12.17\n",
            "AMD 146.8\n",
            "AME 146.19\n",
            "AMGN 227.74\n",
            "AMP 301.87\n",
            "AMT 287.49\n",
            "AMZN 3549.6\n",
            "ANET 145.38\n",
            "ANSS 416.28\n",
            "ANTM 463.3\n",
            "AON 299.09\n",
            "AOS 85.07\n",
            "APA 25.5\n",
            "APD 307.13\n",
            "APH 86.56\n",
            "APTV 166.94\n",
            "ARE 229.48\n",
            "ATO 99.03\n",
            "ATVI 62.41\n",
            "AVB 256.3\n",
            "AVGO 642.23\n",
            "AVY 219.47\n",
            "AWK 187.33\n",
            "AXP 165.75\n",
            "AZO 2062.93\n",
            "BA 203.73\n",
            "BAC 44.9\n",
            "BAX 86.7\n",
            "BBY 104.14\n",
            "BDX 252.59\n",
            "BEN 34.93\n",
            "BF.B 75.29\n",
            "BIIB 243.14\n",
            "BIO 771.59\n",
            "BK 58.9\n",
            "BKNG 2138.12\n",
            "BKR 24.65\n",
            "BLK 923.86\n",
            "BLL 92.21\n",
            "BMY 62.84\n",
            "BR 180.44\n",
            "BRK.B 303.77\n",
            "BSX 40.58\n",
            "BWA 45.55\n",
            "BXP 118.38\n",
            "C 62.35\n",
            "CAG 33.63\n",
            "CAH 49.3\n",
            "CARR 56.19\n",
            "CAT 207.12\n",
            "CB 196.05\n",
            "CBOE 130.66\n",
            "CBRE 108.63\n",
            "CCI 199\n",
            "CCL 18.74\n",
            "CDNS 186.16\n",
            "CDW 201.31\n",
            "CE 164.38\n",
            "CERN 79.25\n",
            "CF 65.05\n",
            "CFG 47.59\n",
            "CHD 100.7\n",
            "CHRW 107.96\n",
            "CHTR 632.6\n",
            "CI 218.33\n",
            "CINF 118.73\n",
            "CL 86.54\n",
            "CLX 176.98\n",
            "CMA 85.52\n",
            "CMCSA 50.54\n",
            "CME 230.98\n",
            "CMG 1715.64\n",
            "CMI 220.4\n",
            "CMS 65.33\n",
            "CNC 84.22\n",
            "CNP 28.19\n",
            "COF 147.93\n",
            "COG 22.69\n",
            "COO 404.69\n",
            "COP 73.61\n",
            "COST 565.95\n",
            "COTY 10.47\n",
            "CPB 44.03\n",
            "CPRT 152.13\n",
            "CRM 264\n",
            "CSCO 61.97\n",
            "CSX 37.7\n",
            "CTAS 469.49\n",
            "CTL 11\n",
            "CTSH 86.5\n",
            "CTVA 46.45\n",
            "CTXS 83.96\n",
            "CVS 101.62\n",
            "CVX 116.93\n",
            "CXO 66.5\n",
            "D 79.2\n",
            "DAL 38.18\n",
            "DD 81.09\n",
            "DE 352.89\n",
            "DFS 118.23\n",
            "DG 227.11\n",
            "DGX 174.7\n",
            "DHI 107.8\n",
            "DHR 329.39\n",
            "DIS 155.7\n",
            "DISCA 22.94\n",
            "DISCK 22.5\n",
            "DISH 33.6\n",
            "DLR 171.99\n",
            "DLTR 145.66\n",
            "DOV 172.73\n",
            "DOW 55.12\n",
            "DPZ 540.95\n",
            "DRE 65.47\n",
            "DRI 154.16\n",
            "DTE 123.3\n",
            "DUK 106.94\n",
            "DVA 109.2\n",
            "DVN 40.7\n",
            "DXC 31.41\n",
            "DXCM 545.79\n",
            "EA 134.7\n",
            "EBAY 66.6\n",
            "ECL 238.17\n",
            "ED 85.36\n",
            "EFX 293.03\n",
            "EIX 69.8\n",
            "EL 373.62\n",
            "EMN 120.36\n",
            "EMR 94.65\n",
            "EOG 84.84\n",
            "EQIX 848.77\n",
            "EQR 91.09\n",
            "ES 92.146\n",
            "ESS 354.81\n",
            "ETFC 51.19\n",
            "ETN 170.77\n",
            "ETR 112.67\n",
            "EVRG 70.8\n",
            "EW 125.24\n",
            "EXC 57.41\n",
            "EXPD 139.28\n",
            "EXPE 162.32\n",
            "EXR 217.74\n",
            "F 20.4\n",
            "FANG 108.86\n",
            "FAST 64.06\n",
            "FB 347.04\n",
            "FBHS 109\n",
            "FCX 37.29\n",
            "FDX 245.36\n",
            "FE 40.24\n",
            "FFIV 240.07\n",
            "FIS 110.22\n",
            "FISV 104.42\n",
            "FITB 45.35\n",
            "FLIR 58.49\n",
            "FLS 30.32\n",
            "FLT 216.59\n",
            "FMC 108.4\n",
            "FOX 35.1\n",
            "FOXA 36.9\n",
            "FRC 212.07\n",
            "FRT 130.68\n",
            "FTI 5.9\n",
            "FTNT 338.08\n",
            "FTV 76.55\n",
            "GD 214.37\n",
            "GE 95.25\n",
            "GILD 74.74\n",
            "GIS 68.64\n",
            "GL 95.3\n",
            "GLW 38.8\n",
            "GM 60.02\n",
            "GOOG 3072.39\n",
            "GOOGL 2976.11\n",
            "GPC 137.36\n",
            "GPN 129.42\n",
            "GPS 17.33\n",
            "GRMN 140.48\n",
            "GS 407.54\n",
            "GWW 520.89\n",
            "HAL 22.92\n",
            "HAS 103.6\n",
            "HBAN 15.333\n",
            "HBI 17.26\n",
            "HCA 261\n",
            "HD 408.51\n",
            "HES 75.44\n",
            "HFC 33.25\n",
            "HIG 69.11\n",
            "HII 198.45\n",
            "HLT 143.49\n",
            "HOLX 77.62\n",
            "HON 217.56\n",
            "HPE 14.8\n",
            "HPQ 37.14\n",
            "HRB 24.29\n",
            "HRL 50.49\n",
            "HSIC 74.42\n",
            "HST 15.9\n",
            "HSY 198.42\n",
            "HUM 472.1\n",
            "HWM 30.45\n",
            "IBM 124.34\n",
            "ICE 140.92\n",
            "IDXX 637.95\n",
            "IEX 248.57\n",
            "IFF 148.41\n",
            "ILMN 408.39\n",
            "INCY 72.87\n",
            "INFO 140.4\n",
            "INTC 52.89\n",
            "INTU 668.07\n",
            "IP 48.3\n",
            "IPG 36.38\n",
            "IPGP 174.78\n",
            "IQV 281\n",
            "IR 60.53\n",
            "IRM 51.56\n",
            "ISRG 343.97\n",
            "IT 341.18\n",
            "ITW 253.33\n",
            "IVZ 23.7\n",
            "J 143.59\n",
            "JBHT 206.6\n",
            "JCI 81.51\n",
            "JKHY 161.66\n",
            "JNJ 172.62\n",
            "JNPR 35.15\n",
            "JPM 162.62\n",
            "K 64.8\n",
            "KEY 23.29\n",
            "KEYS 210.05\n",
            "KHC 35.49\n",
            "KIM 22.95\n",
            "KLAC 419.74\n",
            "KMB 142\n",
            "KMI 16.21\n",
            "KMX 146.43\n",
            "KO 59.67\n",
            "KR 47.13\n",
            "KSS 49.51\n"
          ]
        },
        {
          "output_type": "error",
          "ename": "JSONDecodeError",
          "evalue": "ignored",
          "traceback": [
            "\u001b[0;31m---------------------------------------------------------------------------\u001b[0m",
            "\u001b[0;31mJSONDecodeError\u001b[0m                           Traceback (most recent call last)",
            "\u001b[0;32m<ipython-input-27-f039df185ffc>\u001b[0m in \u001b[0;36m<module>\u001b[0;34m()\u001b[0m\n\u001b[1;32m      1\u001b[0m \u001b[0;32mfor\u001b[0m \u001b[0msymbol\u001b[0m \u001b[0;32min\u001b[0m \u001b[0mstocks\u001b[0m\u001b[0;34m[\u001b[0m\u001b[0;34m'Ticker'\u001b[0m\u001b[0;34m]\u001b[0m\u001b[0;34m:\u001b[0m\u001b[0;34m\u001b[0m\u001b[0;34m\u001b[0m\u001b[0m\n\u001b[1;32m      2\u001b[0m   \u001b[0mapi_url\u001b[0m \u001b[0;34m=\u001b[0m \u001b[0;34mf'https://sandbox.iexapis.com/stable/stock/{symbol}/quote?token={IEX_CLOUD_API_TOKEN}'\u001b[0m\u001b[0;34m\u001b[0m\u001b[0;34m\u001b[0m\u001b[0m\n\u001b[0;32m----> 3\u001b[0;31m   \u001b[0mdata\u001b[0m \u001b[0;34m=\u001b[0m \u001b[0mrequests\u001b[0m\u001b[0;34m.\u001b[0m\u001b[0mget\u001b[0m\u001b[0;34m(\u001b[0m\u001b[0mapi_url\u001b[0m\u001b[0;34m)\u001b[0m\u001b[0;34m.\u001b[0m\u001b[0mjson\u001b[0m\u001b[0;34m(\u001b[0m\u001b[0;34m)\u001b[0m\u001b[0;34m\u001b[0m\u001b[0;34m\u001b[0m\u001b[0m\n\u001b[0m\u001b[1;32m      4\u001b[0m   \u001b[0mprint\u001b[0m \u001b[0;34m(\u001b[0m\u001b[0msymbol\u001b[0m\u001b[0;34m,\u001b[0m \u001b[0mdata\u001b[0m\u001b[0;34m[\u001b[0m\u001b[0;34m'latestPrice'\u001b[0m\u001b[0;34m]\u001b[0m\u001b[0;34m)\u001b[0m\u001b[0;34m\u001b[0m\u001b[0;34m\u001b[0m\u001b[0m\n\u001b[1;32m      5\u001b[0m   \u001b[0mfinal_dataframe\u001b[0m\u001b[0;34m.\u001b[0m\u001b[0mappend\u001b[0m\u001b[0;34m(\u001b[0m\u001b[0;34m{\u001b[0m\u001b[0;34m'Ticker'\u001b[0m\u001b[0;34m:\u001b[0m \u001b[0msymbol\u001b[0m\u001b[0;34m,\u001b[0m \u001b[0;34m'Price'\u001b[0m \u001b[0;34m:\u001b[0m \u001b[0mdata\u001b[0m\u001b[0;34m[\u001b[0m\u001b[0;34m'latestPrice'\u001b[0m\u001b[0;34m]\u001b[0m \u001b[0;34m,\u001b[0m \u001b[0;34m'Market Capitalization'\u001b[0m \u001b[0;34m:\u001b[0m \u001b[0mdata\u001b[0m\u001b[0;34m[\u001b[0m\u001b[0;34m'marketCap'\u001b[0m\u001b[0;34m]\u001b[0m\u001b[0;34m,\u001b[0m \u001b[0;34m'Number Of Shares to Buy'\u001b[0m \u001b[0;34m:\u001b[0m \u001b[0;36m0\u001b[0m\u001b[0;34m}\u001b[0m\u001b[0;34m,\u001b[0m \u001b[0mignore_index\u001b[0m\u001b[0;34m=\u001b[0m\u001b[0;32mTrue\u001b[0m\u001b[0;34m)\u001b[0m\u001b[0;34m\u001b[0m\u001b[0;34m\u001b[0m\u001b[0m\n",
            "\u001b[0;32m/usr/local/lib/python3.7/dist-packages/requests/models.py\u001b[0m in \u001b[0;36mjson\u001b[0;34m(self, **kwargs)\u001b[0m\n\u001b[1;32m    896\u001b[0m                     \u001b[0;31m# used.\u001b[0m\u001b[0;34m\u001b[0m\u001b[0;34m\u001b[0m\u001b[0;34m\u001b[0m\u001b[0m\n\u001b[1;32m    897\u001b[0m                     \u001b[0;32mpass\u001b[0m\u001b[0;34m\u001b[0m\u001b[0;34m\u001b[0m\u001b[0m\n\u001b[0;32m--> 898\u001b[0;31m         \u001b[0;32mreturn\u001b[0m \u001b[0mcomplexjson\u001b[0m\u001b[0;34m.\u001b[0m\u001b[0mloads\u001b[0m\u001b[0;34m(\u001b[0m\u001b[0mself\u001b[0m\u001b[0;34m.\u001b[0m\u001b[0mtext\u001b[0m\u001b[0;34m,\u001b[0m \u001b[0;34m**\u001b[0m\u001b[0mkwargs\u001b[0m\u001b[0;34m)\u001b[0m\u001b[0;34m\u001b[0m\u001b[0;34m\u001b[0m\u001b[0m\n\u001b[0m\u001b[1;32m    899\u001b[0m \u001b[0;34m\u001b[0m\u001b[0m\n\u001b[1;32m    900\u001b[0m     \u001b[0;34m@\u001b[0m\u001b[0mproperty\u001b[0m\u001b[0;34m\u001b[0m\u001b[0;34m\u001b[0m\u001b[0m\n",
            "\u001b[0;32m/usr/lib/python3.7/json/__init__.py\u001b[0m in \u001b[0;36mloads\u001b[0;34m(s, encoding, cls, object_hook, parse_float, parse_int, parse_constant, object_pairs_hook, **kw)\u001b[0m\n\u001b[1;32m    346\u001b[0m             \u001b[0mparse_int\u001b[0m \u001b[0;32mis\u001b[0m \u001b[0;32mNone\u001b[0m \u001b[0;32mand\u001b[0m \u001b[0mparse_float\u001b[0m \u001b[0;32mis\u001b[0m \u001b[0;32mNone\u001b[0m \u001b[0;32mand\u001b[0m\u001b[0;34m\u001b[0m\u001b[0;34m\u001b[0m\u001b[0m\n\u001b[1;32m    347\u001b[0m             parse_constant is None and object_pairs_hook is None and not kw):\n\u001b[0;32m--> 348\u001b[0;31m         \u001b[0;32mreturn\u001b[0m \u001b[0m_default_decoder\u001b[0m\u001b[0;34m.\u001b[0m\u001b[0mdecode\u001b[0m\u001b[0;34m(\u001b[0m\u001b[0ms\u001b[0m\u001b[0;34m)\u001b[0m\u001b[0;34m\u001b[0m\u001b[0;34m\u001b[0m\u001b[0m\n\u001b[0m\u001b[1;32m    349\u001b[0m     \u001b[0;32mif\u001b[0m \u001b[0mcls\u001b[0m \u001b[0;32mis\u001b[0m \u001b[0;32mNone\u001b[0m\u001b[0;34m:\u001b[0m\u001b[0;34m\u001b[0m\u001b[0;34m\u001b[0m\u001b[0m\n\u001b[1;32m    350\u001b[0m         \u001b[0mcls\u001b[0m \u001b[0;34m=\u001b[0m \u001b[0mJSONDecoder\u001b[0m\u001b[0;34m\u001b[0m\u001b[0;34m\u001b[0m\u001b[0m\n",
            "\u001b[0;32m/usr/lib/python3.7/json/decoder.py\u001b[0m in \u001b[0;36mdecode\u001b[0;34m(self, s, _w)\u001b[0m\n\u001b[1;32m    335\u001b[0m \u001b[0;34m\u001b[0m\u001b[0m\n\u001b[1;32m    336\u001b[0m         \"\"\"\n\u001b[0;32m--> 337\u001b[0;31m         \u001b[0mobj\u001b[0m\u001b[0;34m,\u001b[0m \u001b[0mend\u001b[0m \u001b[0;34m=\u001b[0m \u001b[0mself\u001b[0m\u001b[0;34m.\u001b[0m\u001b[0mraw_decode\u001b[0m\u001b[0;34m(\u001b[0m\u001b[0ms\u001b[0m\u001b[0;34m,\u001b[0m \u001b[0midx\u001b[0m\u001b[0;34m=\u001b[0m\u001b[0m_w\u001b[0m\u001b[0;34m(\u001b[0m\u001b[0ms\u001b[0m\u001b[0;34m,\u001b[0m \u001b[0;36m0\u001b[0m\u001b[0;34m)\u001b[0m\u001b[0;34m.\u001b[0m\u001b[0mend\u001b[0m\u001b[0;34m(\u001b[0m\u001b[0;34m)\u001b[0m\u001b[0;34m)\u001b[0m\u001b[0;34m\u001b[0m\u001b[0;34m\u001b[0m\u001b[0m\n\u001b[0m\u001b[1;32m    338\u001b[0m         \u001b[0mend\u001b[0m \u001b[0;34m=\u001b[0m \u001b[0m_w\u001b[0m\u001b[0;34m(\u001b[0m\u001b[0ms\u001b[0m\u001b[0;34m,\u001b[0m \u001b[0mend\u001b[0m\u001b[0;34m)\u001b[0m\u001b[0;34m.\u001b[0m\u001b[0mend\u001b[0m\u001b[0;34m(\u001b[0m\u001b[0;34m)\u001b[0m\u001b[0;34m\u001b[0m\u001b[0;34m\u001b[0m\u001b[0m\n\u001b[1;32m    339\u001b[0m         \u001b[0;32mif\u001b[0m \u001b[0mend\u001b[0m \u001b[0;34m!=\u001b[0m \u001b[0mlen\u001b[0m\u001b[0;34m(\u001b[0m\u001b[0ms\u001b[0m\u001b[0;34m)\u001b[0m\u001b[0;34m:\u001b[0m\u001b[0;34m\u001b[0m\u001b[0;34m\u001b[0m\u001b[0m\n",
            "\u001b[0;32m/usr/lib/python3.7/json/decoder.py\u001b[0m in \u001b[0;36mraw_decode\u001b[0;34m(self, s, idx)\u001b[0m\n\u001b[1;32m    353\u001b[0m             \u001b[0mobj\u001b[0m\u001b[0;34m,\u001b[0m \u001b[0mend\u001b[0m \u001b[0;34m=\u001b[0m \u001b[0mself\u001b[0m\u001b[0;34m.\u001b[0m\u001b[0mscan_once\u001b[0m\u001b[0;34m(\u001b[0m\u001b[0ms\u001b[0m\u001b[0;34m,\u001b[0m \u001b[0midx\u001b[0m\u001b[0;34m)\u001b[0m\u001b[0;34m\u001b[0m\u001b[0;34m\u001b[0m\u001b[0m\n\u001b[1;32m    354\u001b[0m         \u001b[0;32mexcept\u001b[0m \u001b[0mStopIteration\u001b[0m \u001b[0;32mas\u001b[0m \u001b[0merr\u001b[0m\u001b[0;34m:\u001b[0m\u001b[0;34m\u001b[0m\u001b[0;34m\u001b[0m\u001b[0m\n\u001b[0;32m--> 355\u001b[0;31m             \u001b[0;32mraise\u001b[0m \u001b[0mJSONDecodeError\u001b[0m\u001b[0;34m(\u001b[0m\u001b[0;34m\"Expecting value\"\u001b[0m\u001b[0;34m,\u001b[0m \u001b[0ms\u001b[0m\u001b[0;34m,\u001b[0m \u001b[0merr\u001b[0m\u001b[0;34m.\u001b[0m\u001b[0mvalue\u001b[0m\u001b[0;34m)\u001b[0m \u001b[0;32mfrom\u001b[0m \u001b[0;32mNone\u001b[0m\u001b[0;34m\u001b[0m\u001b[0;34m\u001b[0m\u001b[0m\n\u001b[0m\u001b[1;32m    356\u001b[0m         \u001b[0;32mreturn\u001b[0m \u001b[0mobj\u001b[0m\u001b[0;34m,\u001b[0m \u001b[0mend\u001b[0m\u001b[0;34m\u001b[0m\u001b[0;34m\u001b[0m\u001b[0m\n",
            "\u001b[0;31mJSONDecodeError\u001b[0m: Expecting value: line 1 column 1 (char 0)"
          ]
        }
      ],
      "source": [
        "for symbol in stocks['Ticker']:\n",
        "  api_url = f'https://sandbox.iexapis.com/stable/stock/{symbol}/quote?token={IEX_CLOUD_API_TOKEN}'\n",
        "  data = requests.get(api_url).json()\n",
        "  print (symbol, data['latestPrice'])\n",
        "  final_dataframe.append({'Ticker': symbol, 'Price' : data['latestPrice'] , 'Market Capitalization' : data['marketCap'], 'Number Of Shares to Buy' : 0}, ignore_index=True)\n",
        "final_dataframe  "
      ]
    },
    {
      "cell_type": "code",
      "execution_count": null,
      "metadata": {
        "id": "uX5QmP8twKyk"
      },
      "outputs": [],
      "source": [
        ""
      ]
    },
    {
      "cell_type": "markdown",
      "metadata": {
        "id": "8BsYHZE9wKyl"
      },
      "source": [
        "## Using Batch API Calls to Improve Performance\n",
        "\n",
        "Batch API calls are one of the easiest ways to improve the performance of your code.\n",
        "\n",
        "This is because HTTP requests are typically one of the slowest components of a script.\n",
        "\n",
        "Also, API providers will often give you discounted rates for using batch API calls since they are easier for the API provider to respond to.\n",
        "\n",
        "IEX Cloud limits their batch API calls to 100 tickers per request. Still, this reduces the number of API calls we'll make in this section from 500 to 5 - huge improvement! In this section, we'll split our list of stocks into groups of 100 and then make a batch API call for each group."
      ]
    },
    {
      "cell_type": "code",
      "execution_count": null,
      "metadata": {
        "id": "Lje-14OtwKyl"
      },
      "outputs": [],
      "source": [
        ""
      ]
    },
    {
      "cell_type": "code",
      "execution_count": null,
      "metadata": {
        "id": "lKVKrRoHwKyl"
      },
      "outputs": [],
      "source": [
        ""
      ]
    },
    {
      "cell_type": "markdown",
      "metadata": {
        "id": "fuo90lJfwKyl"
      },
      "source": [
        "## Calculating the Number of Shares to Buy\n",
        "\n",
        "As you can see in the DataFrame above, we stil haven't calculated the number of shares of each stock to buy.\n",
        "\n",
        "We'll do that next."
      ]
    },
    {
      "cell_type": "code",
      "execution_count": null,
      "metadata": {
        "id": "ywNQxPO2wKym"
      },
      "outputs": [],
      "source": [
        ""
      ]
    },
    {
      "cell_type": "code",
      "execution_count": null,
      "metadata": {
        "id": "MKH1kOgMwKym"
      },
      "outputs": [],
      "source": [
        ""
      ]
    },
    {
      "cell_type": "markdown",
      "metadata": {
        "id": "kWohe1qnwKym"
      },
      "source": [
        "## Formatting Our Excel Output\n",
        "\n",
        "We will be using the XlsxWriter library for Python to create nicely-formatted Excel files.\n",
        "\n",
        "XlsxWriter is an excellent package and offers tons of customization. However, the tradeoff for this is that the library can seem very complicated to new users. Accordingly, this section will be fairly long because I want to do a good job of explaining how XlsxWriter works.\n",
        "\n",
        "### Initializing our XlsxWriter Object"
      ]
    },
    {
      "cell_type": "code",
      "execution_count": null,
      "metadata": {
        "id": "kV2iU-f6wKym"
      },
      "outputs": [],
      "source": [
        ""
      ]
    },
    {
      "cell_type": "markdown",
      "metadata": {
        "id": "t-88gr5SwKym"
      },
      "source": [
        "### Creating the Formats We'll Need For Our `.xlsx` File\n",
        "\n",
        "Formats include colors, fonts, and also symbols like `%` and `$`. We'll need four main formats for our Excel document:\n",
        "* String format for tickers\n",
        "* \\\\$XX.XX format for stock prices\n",
        "* \\\\$XX,XXX format for market capitalization\n",
        "* Integer format for the number of shares to purchase"
      ]
    },
    {
      "cell_type": "code",
      "execution_count": null,
      "metadata": {
        "id": "qJ1kZ973wKyn"
      },
      "outputs": [],
      "source": [
        ""
      ]
    },
    {
      "cell_type": "markdown",
      "metadata": {
        "id": "-qpmkf6_wKyn"
      },
      "source": [
        "### Applying the Formats to the Columns of Our `.xlsx` File\n",
        "\n",
        "We can use the `set_column` method applied to the `writer.sheets['Recommended Trades']` object to apply formats to specific columns of our spreadsheets.\n",
        "\n",
        "Here's an example:\n",
        "\n",
        "```python\n",
        "writer.sheets['Recommended Trades'].set_column('B:B', #This tells the method to apply the format to column B\n",
        "                     18, #This tells the method to apply a column width of 18 pixels\n",
        "                     string_template #This applies the format 'string_template' to the column\n",
        "                    )\n",
        "```"
      ]
    },
    {
      "cell_type": "code",
      "execution_count": null,
      "metadata": {
        "id": "3MKKrKuuwKyn"
      },
      "outputs": [],
      "source": [
        ""
      ]
    },
    {
      "cell_type": "markdown",
      "metadata": {
        "id": "93EyUVeCwKyn"
      },
      "source": [
        "This code works, but it violates the software principle of \"Don't Repeat Yourself\". \n",
        "\n",
        "Let's simplify this by putting it in 2 loops:"
      ]
    },
    {
      "cell_type": "code",
      "execution_count": null,
      "metadata": {
        "id": "P7N0Fgv4wKyn"
      },
      "outputs": [],
      "source": [
        ""
      ]
    },
    {
      "cell_type": "markdown",
      "metadata": {
        "id": "p4tW0yI-wKyo"
      },
      "source": [
        "## Saving Our Excel Output\n",
        "\n",
        "Saving our Excel file is very easy:"
      ]
    },
    {
      "cell_type": "code",
      "execution_count": null,
      "metadata": {
        "id": "_HnOP2JswKyo"
      },
      "outputs": [],
      "source": [
        ""
      ]
    }
  ],
  "metadata": {
    "kernelspec": {
      "display_name": "Python 3",
      "language": "python",
      "name": "python3"
    },
    "language_info": {
      "codemirror_mode": {
        "name": "ipython",
        "version": 3
      },
      "file_extension": ".py",
      "mimetype": "text/x-python",
      "name": "python",
      "nbconvert_exporter": "python",
      "pygments_lexer": "ipython3",
      "version": "3.8.2"
    },
    "colab": {
      "name": "001_equal_weight_S&P_500.ipynb",
      "provenance": []
    }
  },
  "nbformat": 4,
  "nbformat_minor": 0
}